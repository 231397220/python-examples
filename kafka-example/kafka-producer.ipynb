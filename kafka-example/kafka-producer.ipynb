{
 "cells": [
  {
   "cell_type": "code",
   "execution_count": 1,
   "id": "91252245-67b1-4039-a1cd-fed503bd282f",
   "metadata": {},
   "outputs": [],
   "source": [
    "from kafka import KafkaProducer\n",
    "from kafka.errors import KafkaError"
   ]
  },
  {
   "cell_type": "code",
   "execution_count": 2,
   "id": "e337ed34-f328-4204-ba60-bdb8a003b7ec",
   "metadata": {},
   "outputs": [],
   "source": [
    "producer = KafkaProducer(bootstrap_servers=['192.168.10.93:9092'])\n"
   ]
  },
  {
   "cell_type": "code",
   "execution_count": 9,
   "id": "4eaa4b4f-2b36-4491-b4cb-871d0b005089",
   "metadata": {},
   "outputs": [
    {
     "data": {
      "text/plain": [
       "<kafka.producer.future.FutureRecordMetadata at 0x1100b8850>"
      ]
     },
     "execution_count": 9,
     "metadata": {},
     "output_type": "execute_result"
    }
   ],
   "source": [
    "# produce keyed messages to enable hashed partitioning\n",
    "producer.send('sam', key=b'foo', value=b'bar21222')\n"
   ]
  },
  {
   "cell_type": "code",
   "execution_count": null,
   "id": "73f787bd-6d1b-4ce8-a023-f54066976fa6",
   "metadata": {},
   "outputs": [],
   "source": []
  }
 ],
 "metadata": {
  "kernelspec": {
   "display_name": "Python 3",
   "language": "python",
   "name": "python3"
  },
  "language_info": {
   "codemirror_mode": {
    "name": "ipython",
    "version": 3
   },
   "file_extension": ".py",
   "mimetype": "text/x-python",
   "name": "python",
   "nbconvert_exporter": "python",
   "pygments_lexer": "ipython3",
   "version": "3.9.5"
  }
 },
 "nbformat": 4,
 "nbformat_minor": 5
}
