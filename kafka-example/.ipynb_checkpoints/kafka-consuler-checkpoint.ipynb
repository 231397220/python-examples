{
 "cells": [
  {
   "cell_type": "code",
   "execution_count": 1,
   "id": "890db976-b8e7-48ea-89bf-e66b30b15fc9",
   "metadata": {},
   "outputs": [],
   "source": [
    "from kafka import KafkaConsumer\n"
   ]
  },
  {
   "cell_type": "code",
   "execution_count": 2,
   "id": "f9ce35ed-2a18-4fa3-bf61-b41ece668737",
   "metadata": {},
   "outputs": [],
   "source": [
    "# To consume latest messages and auto-commit offsets\n",
    "consumer = KafkaConsumer('sam',\n",
    "                         group_id='sam-group',\n",
    "                         bootstrap_servers=['192.168.10.93:9092'])"
   ]
  },
  {
   "cell_type": "code",
   "execution_count": null,
   "id": "dba1cac6-fc82-4719-abb5-1b5532eb98ff",
   "metadata": {},
   "outputs": [
    {
     "name": "stdout",
     "output_type": "stream",
     "text": [
      "sam:0:58: key=b'foo' value=b'bar21222'\n",
      "sam:0:59: key=None value=b'exit'\n",
      "sam:0:60: key=None value=b''\n"
     ]
    }
   ],
   "source": [
    "for message in consumer:\n",
    "    # message value and key are raw bytes -- decode if necessary!\n",
    "    # e.g., for unicode: `message.value.decode('utf-8')`\n",
    "    print (\"%s:%d:%d: key=%s value=%s\" % (message.topic, message.partition,\n",
    "                                          message.offset, message.key,\n",
    "                                          message.value))"
   ]
  },
  {
   "cell_type": "code",
   "execution_count": null,
   "id": "ecb6c1e2-fcd3-491b-ae0f-2e7acb0888f7",
   "metadata": {},
   "outputs": [],
   "source": []
  }
 ],
 "metadata": {
  "kernelspec": {
   "display_name": "Python 3",
   "language": "python",
   "name": "python3"
  },
  "language_info": {
   "codemirror_mode": {
    "name": "ipython",
    "version": 3
   },
   "file_extension": ".py",
   "mimetype": "text/x-python",
   "name": "python",
   "nbconvert_exporter": "python",
   "pygments_lexer": "ipython3",
   "version": "3.9.5"
  }
 },
 "nbformat": 4,
 "nbformat_minor": 5
}
