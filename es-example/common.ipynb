{
 "cells": [
  {
   "cell_type": "code",
   "execution_count": 2,
   "id": "94454a24-5ba6-4808-8488-af87b634b197",
   "metadata": {},
   "outputs": [],
   "source": [
    "from elasticsearch import Elasticsearch\n"
   ]
  },
  {
   "cell_type": "code",
   "execution_count": 11,
   "id": "e5ce1b96-cac4-42f2-bc66-32158e9169a0",
   "metadata": {},
   "outputs": [],
   "source": [
    "es = Elasticsearch(['prod1-es6.smartedu.lenovo.com'],scheme=\"http\",port=80)"
   ]
  },
  {
   "cell_type": "code",
   "execution_count": 22,
   "id": "107755b9-5f4f-46b7-a4ec-73358e892188",
   "metadata": {},
   "outputs": [
    {
     "data": {
      "text/plain": [
       "'green  open nginx-ingress-logs-2022.01.01  hJbCj5jJQsqk5qhvOl5XEg 5 1 351076 0 516mb 257.5mb\\nyellow open nginx-ingress-logs1-2022.01.01 PEXO-HkSRAunUNXmyZvcEA 5 1      0 0 1.5kb    690b\\n'"
      ]
     },
     "execution_count": 22,
     "metadata": {},
     "output_type": "execute_result"
    }
   ],
   "source": [
    "es.cat.indices(index='*-2022.01.01')"
   ]
  },
  {
   "cell_type": "code",
   "execution_count": 18,
   "id": "3c04a754-628b-441a-b742-d96c091c53d0",
   "metadata": {},
   "outputs": [
    {
     "data": {
      "text/plain": [
       "{'cluster_name': 'test-cluster',\n",
       " 'status': 'green',\n",
       " 'timed_out': False,\n",
       " 'number_of_nodes': 3,\n",
       " 'number_of_data_nodes': 3,\n",
       " 'active_primary_shards': 4491,\n",
       " 'active_shards': 8982,\n",
       " 'relocating_shards': 0,\n",
       " 'initializing_shards': 0,\n",
       " 'unassigned_shards': 0,\n",
       " 'delayed_unassigned_shards': 0,\n",
       " 'number_of_pending_tasks': 0,\n",
       " 'number_of_in_flight_fetch': 0,\n",
       " 'task_max_waiting_in_queue_millis': 0,\n",
       " 'active_shards_percent_as_number': 100.0}"
      ]
     },
     "execution_count": 18,
     "metadata": {},
     "output_type": "execute_result"
    }
   ],
   "source": [
    "es.cluster.health(wait_for_status='yellow', request_timeout=1)\n"
   ]
  },
  {
   "cell_type": "code",
   "execution_count": 42,
   "id": "af499d65-236f-4845-b7d0-b83fb4d89a07",
   "metadata": {},
   "outputs": [
    {
     "name": "stderr",
     "output_type": "stream",
     "text": [
      "/usr/local/lib/python3.9/site-packages/elasticsearch/connection/base.py:200: ElasticsearchWarning: the default number of shards will change from [5] to [1] in 7.0.0; if you wish to continue using the default of [5] shards, you must manage this on the create index request or with an index template\n",
      "  warnings.warn(message, category=ElasticsearchWarning)\n",
      "/usr/local/lib/python3.9/site-packages/elasticsearch/connection/base.py:200: ElasticsearchWarning: In a future major version, this request will fail because this action would add [10] total shards, but this cluster currently has [8992]/[3000] maximum shards open. Before upgrading, reduce the number of shards in your cluster or adjust the cluster setting [cluster.max_shards_per_node].\n",
      "  warnings.warn(message, category=ElasticsearchWarning)\n"
     ]
    },
    {
     "data": {
      "text/plain": [
       "{'acknowledged': True,\n",
       " 'shards_acknowledged': True,\n",
       " 'index': 'web-ingress-logs1-2022.01.01'}"
      ]
     },
     "execution_count": 42,
     "metadata": {},
     "output_type": "execute_result"
    }
   ],
   "source": [
    "es.indices.create(index='web-ingress-logs1-2022.01.01')"
   ]
  },
  {
   "cell_type": "code",
   "execution_count": 70,
   "id": "854d3d96-bc04-411e-bd73-19ff9d8ae12b",
   "metadata": {},
   "outputs": [
    {
     "name": "stdout",
     "output_type": "stream",
     "text": [
      "['nginx-ingress-logs-2022.01.01', 'nginx-ingress-logs1-2022.01.01', 'web-ingress-logs1-2022.01.01']\n"
     ]
    }
   ],
   "source": [
    "es_indices_list=list(es.indices.get(index='*2022.01.01'))\n",
    "print(es_indices_list)\n",
    "whitelist= ['nginx-ingress','addseff-log']"
   ]
  },
  {
   "cell_type": "code",
   "execution_count": 67,
   "id": "b4553a35-fbb9-49a1-af76-8791dcde55cf",
   "metadata": {},
   "outputs": [
    {
     "name": "stdout",
     "output_type": "stream",
     "text": [
      "['web-ingress-logs1-2022.01.01']\n"
     ]
    }
   ],
   "source": [
    "new_es_indices_list=[]\n",
    "for i in es_indices_list:\n",
    "    if \"nginx-ingress\" not in i:\n",
    "        new_es_indices_list.append(i)\n",
    "print(new_es_indices_list)"
   ]
  },
  {
   "cell_type": "code",
   "execution_count": 84,
   "id": "d57b99bd-54e9-4b40-97cc-5ec4089781a4",
   "metadata": {},
   "outputs": [
    {
     "name": "stdout",
     "output_type": "stream",
     "text": [
      "['web-ingress-logs1-2022.01.01']\n"
     ]
    }
   ],
   "source": [
    "import re\n",
    "\n",
    "new_es_indices_list=[]\n",
    "# new_es_indices_list = [ index for index in es_indices_list if re.match(r'[^\\d]+|^', index).group(0) in whitelist]\n",
    "new_es_indices_list = [ index for index in es_indices_list if all(white_index not in index for white_index in whitelist)]\n",
    "print(new_es_indices_list)"
   ]
  },
  {
   "cell_type": "code",
   "execution_count": 56,
   "id": "2b2b2cf8-4114-45cf-8a62-b99351be7008",
   "metadata": {},
   "outputs": [
    {
     "name": "stdout",
     "output_type": "stream",
     "text": [
      "['nginx-ingress', 'addseff-log']\n",
      "False\n"
     ]
    }
   ],
   "source": [
    "print(whitelist)\n",
    "print(\"nginx-ingress-logs\" in whitelist)"
   ]
  },
  {
   "cell_type": "code",
   "execution_count": 86,
   "id": "f6b1d429-a70d-487e-918c-7fa918b2a85e",
   "metadata": {},
   "outputs": [
    {
     "name": "stdout",
     "output_type": "stream",
     "text": [
      "1\n"
     ]
    }
   ],
   "source": [
    "a=0\n",
    "if a == 1 or a == 0:\n",
    "    print(1)\n",
    "elif a == 2 or a == 0:\n",
    "    print(2)\n",
    "    "
   ]
  },
  {
   "cell_type": "code",
   "execution_count": null,
   "id": "aa99c3ec-13a6-4ccb-9d7d-518290c064c2",
   "metadata": {},
   "outputs": [],
   "source": []
  },
  {
   "cell_type": "code",
   "execution_count": null,
   "id": "527271a4-de4f-4a2c-9e15-e6d6af64ff15",
   "metadata": {},
   "outputs": [],
   "source": []
  }
 ],
 "metadata": {
  "kernelspec": {
   "display_name": "Python 3",
   "language": "python",
   "name": "python3"
  },
  "language_info": {
   "codemirror_mode": {
    "name": "ipython",
    "version": 3
   },
   "file_extension": ".py",
   "mimetype": "text/x-python",
   "name": "python",
   "nbconvert_exporter": "python",
   "pygments_lexer": "ipython3",
   "version": "3.9.5"
  }
 },
 "nbformat": 4,
 "nbformat_minor": 5
}
