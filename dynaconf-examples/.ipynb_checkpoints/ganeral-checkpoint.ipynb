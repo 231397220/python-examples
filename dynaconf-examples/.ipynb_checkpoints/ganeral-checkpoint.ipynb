{
 "cells": [
  {
   "cell_type": "code",
   "execution_count": 6,
   "id": "564f4117-a73e-4955-80db-f14301d5adaa",
   "metadata": {},
   "outputs": [],
   "source": [
    "from dynaconf import Dynaconf"
   ]
  },
  {
   "cell_type": "code",
   "execution_count": 16,
   "id": "6a11ef15-3502-4a05-9228-049c9bd165e6",
   "metadata": {},
   "outputs": [],
   "source": [
    "settings = Dynaconf(\n",
    "    settings_file=\"config.yaml\",\n",
    "    environments=False,\n",
    "    envvar_prefix=False\n",
    ")"
   ]
  },
  {
   "cell_type": "code",
   "execution_count": 18,
   "id": "df46ce8c-80b8-4ba3-94c3-860091d698ac",
   "metadata": {},
   "outputs": [
    {
     "ename": "AttributeError",
     "evalue": "'BoxList' object has no attribute 'fluent'",
     "output_type": "error",
     "traceback": [
      "\u001b[0;31m---------------------------------------------------------------------------\u001b[0m",
      "\u001b[0;31mAttributeError\u001b[0m                            Traceback (most recent call last)",
      "\u001b[0;32m<ipython-input-18-860cd311df4a>\u001b[0m in \u001b[0;36m<module>\u001b[0;34m\u001b[0m\n\u001b[0;32m----> 1\u001b[0;31m \u001b[0mprint\u001b[0m\u001b[0;34m(\u001b[0m\u001b[0msettings\u001b[0m\u001b[0;34m.\u001b[0m\u001b[0mindex\u001b[0m\u001b[0;34m.\u001b[0m\u001b[0mfluent\u001b[0m\u001b[0;34m-\u001b[0m\u001b[0mistio\u001b[0m\u001b[0;34m-\u001b[0m\u001b[0mingress\u001b[0m\u001b[0;34m)\u001b[0m\u001b[0;34m\u001b[0m\u001b[0;34m\u001b[0m\u001b[0m\n\u001b[0m",
      "\u001b[0;31mAttributeError\u001b[0m: 'BoxList' object has no attribute 'fluent'"
     ]
    }
   ],
   "source": [
    "print(settings.index.fluent-istio-ingress)"
   ]
  },
  {
   "cell_type": "code",
   "execution_count": null,
   "id": "6d5215b3-111b-46bc-8c59-7adbc75206e2",
   "metadata": {},
   "outputs": [],
   "source": []
  }
 ],
 "metadata": {
  "kernelspec": {
   "display_name": "Python 3",
   "language": "python",
   "name": "python3"
  },
  "language_info": {
   "codemirror_mode": {
    "name": "ipython",
    "version": 3
   },
   "file_extension": ".py",
   "mimetype": "text/x-python",
   "name": "python",
   "nbconvert_exporter": "python",
   "pygments_lexer": "ipython3",
   "version": "3.9.5"
  }
 },
 "nbformat": 4,
 "nbformat_minor": 5
}
