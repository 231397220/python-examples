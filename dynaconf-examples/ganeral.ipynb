{
 "cells": [
  {
   "cell_type": "code",
   "execution_count": 6,
   "id": "564f4117-a73e-4955-80db-f14301d5adaa",
   "metadata": {},
   "outputs": [],
   "source": [
    "from dynaconf import Dynaconf"
   ]
  },
  {
   "cell_type": "code",
   "execution_count": 26,
   "id": "6a11ef15-3502-4a05-9228-049c9bd165e6",
   "metadata": {},
   "outputs": [],
   "source": [
    "settings = Dynaconf(\n",
    "    settings_file=\"config.yaml\",\n",
    "    environments=False,\n",
    "    envvar_prefix=False\n",
    ")"
   ]
  },
  {
   "cell_type": "code",
   "execution_count": 28,
   "id": "df46ce8c-80b8-4ba3-94c3-860091d698ac",
   "metadata": {},
   "outputs": [
    {
     "name": "stdout",
     "output_type": "stream",
     "text": [
      "[{'fluent-istio-ingress': '1,m'}, {'logstash-idaas-debug': '60,d'}]\n",
      "index\n",
      "{'retention_time_days': 10, 'whitelist': ['nginx-ingress-logs']}\n"
     ]
    }
   ],
   "source": [
    "print(settings.index)\n",
    "print(settings.mode)\n",
    "print(settings.date)"
   ]
  },
  {
   "cell_type": "code",
   "execution_count": null,
   "id": "6d5215b3-111b-46bc-8c59-7adbc75206e2",
   "metadata": {},
   "outputs": [],
   "source": []
  }
 ],
 "metadata": {
  "kernelspec": {
   "display_name": "Python 3",
   "language": "python",
   "name": "python3"
  },
  "language_info": {
   "codemirror_mode": {
    "name": "ipython",
    "version": 3
   },
   "file_extension": ".py",
   "mimetype": "text/x-python",
   "name": "python",
   "nbconvert_exporter": "python",
   "pygments_lexer": "ipython3",
   "version": "3.9.5"
  }
 },
 "nbformat": 4,
 "nbformat_minor": 5
}
