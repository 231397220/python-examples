{
 "cells": [
  {
   "cell_type": "code",
   "execution_count": 48,
   "id": "564f4117-a73e-4955-80db-f14301d5adaa",
   "metadata": {},
   "outputs": [],
   "source": [
    "from dynaconf import Dynaconf\n",
    "from dynaconf import settings\n",
    "import os"
   ]
  },
  {
   "cell_type": "code",
   "execution_count": 50,
   "id": "6a11ef15-3502-4a05-9228-049c9bd165e6",
   "metadata": {},
   "outputs": [],
   "source": [
    "\n",
    "# settings.configure(    \n",
    "#     settings_file=f\"{current_directory}/config.yaml\",\n",
    "#     environments=False,\n",
    "#     envvar_prefix=False\n",
    "# )\n",
    "settings = Dynaconf(\n",
    "    settings_file=\"config.yaml\",\n",
    "    environments=False,\n",
    "    envvar_prefix=False\n",
    ")"
   ]
  },
  {
   "cell_type": "code",
   "execution_count": 51,
   "id": "df46ce8c-80b8-4ba3-94c3-860091d698ac",
   "metadata": {},
   "outputs": [
    {
     "name": "stdout",
     "output_type": "stream",
     "text": [
      "{'fluent-istio-ingress': '1,m', 'logstash-idaas-debug': '60,d'}\n",
      "index\n",
      "{'define_retention_days': 10, 'whitelist': ['nginx-ingress-logs']}\n"
     ]
    }
   ],
   "source": [
    "print(settings.index)\n",
    "print(settings.mode)\n",
    "print(settings.date)"
   ]
  },
  {
   "cell_type": "code",
   "execution_count": 40,
   "id": "179e6406-6fda-4e56-985e-8432d507a165",
   "metadata": {},
   "outputs": [
    {
     "ename": "AttributeError",
     "evalue": "'Settings' object has no attribute 'es_host'",
     "output_type": "error",
     "traceback": [
      "\u001b[0;31m---------------------------------------------------------------------------\u001b[0m",
      "\u001b[0;31mAttributeError\u001b[0m                            Traceback (most recent call last)",
      "\u001b[0;32m<ipython-input-40-3fb8c7889566>\u001b[0m in \u001b[0;36m<module>\u001b[0;34m\u001b[0m\n\u001b[0;32m----> 1\u001b[0;31m \u001b[0mprint\u001b[0m\u001b[0;34m(\u001b[0m\u001b[0msettings\u001b[0m\u001b[0;34m.\u001b[0m\u001b[0mes_host\u001b[0m\u001b[0;34m)\u001b[0m\u001b[0;34m\u001b[0m\u001b[0;34m\u001b[0m\u001b[0m\n\u001b[0m",
      "\u001b[0;32m/usr/local/lib/python3.9/site-packages/dynaconf/base.py\u001b[0m in \u001b[0;36m__getattr__\u001b[0;34m(self, name)\u001b[0m\n\u001b[1;32m    134\u001b[0m         ):\n\u001b[1;32m    135\u001b[0m             \u001b[0;32mreturn\u001b[0m \u001b[0mself\u001b[0m\u001b[0;34m.\u001b[0m\u001b[0m_wrapped\u001b[0m\u001b[0;34m.\u001b[0m\u001b[0mget_fresh\u001b[0m\u001b[0;34m(\u001b[0m\u001b[0mname\u001b[0m\u001b[0;34m)\u001b[0m\u001b[0;34m\u001b[0m\u001b[0;34m\u001b[0m\u001b[0m\n\u001b[0;32m--> 136\u001b[0;31m         \u001b[0mvalue\u001b[0m \u001b[0;34m=\u001b[0m \u001b[0mgetattr\u001b[0m\u001b[0;34m(\u001b[0m\u001b[0mself\u001b[0m\u001b[0;34m.\u001b[0m\u001b[0m_wrapped\u001b[0m\u001b[0;34m,\u001b[0m \u001b[0mname\u001b[0m\u001b[0;34m)\u001b[0m\u001b[0;34m\u001b[0m\u001b[0;34m\u001b[0m\u001b[0m\n\u001b[0m\u001b[1;32m    137\u001b[0m         \u001b[0;32mif\u001b[0m \u001b[0mname\u001b[0m \u001b[0;32mnot\u001b[0m \u001b[0;32min\u001b[0m \u001b[0mRESERVED_ATTRS\u001b[0m\u001b[0;34m:\u001b[0m\u001b[0;34m\u001b[0m\u001b[0;34m\u001b[0m\u001b[0m\n\u001b[1;32m    138\u001b[0m             \u001b[0;32mreturn\u001b[0m \u001b[0mrecursively_evaluate_lazy_format\u001b[0m\u001b[0;34m(\u001b[0m\u001b[0mvalue\u001b[0m\u001b[0;34m,\u001b[0m \u001b[0mself\u001b[0m\u001b[0;34m)\u001b[0m\u001b[0;34m\u001b[0m\u001b[0;34m\u001b[0m\u001b[0m\n",
      "\u001b[0;32m/usr/local/lib/python3.9/site-packages/dynaconf/base.py\u001b[0m in \u001b[0;36m__getattribute__\u001b[0;34m(self, name)\u001b[0m\n\u001b[1;32m    275\u001b[0m                 \u001b[0;32mreturn\u001b[0m \u001b[0mself\u001b[0m\u001b[0;34m.\u001b[0m\u001b[0m_store\u001b[0m\u001b[0;34m[\u001b[0m\u001b[0mname\u001b[0m\u001b[0;34m]\u001b[0m\u001b[0;34m\u001b[0m\u001b[0;34m\u001b[0m\u001b[0m\n\u001b[1;32m    276\u001b[0m         \u001b[0;31m# in case of RESERVED_ATTRS or KeyError above, keep default behaviour\u001b[0m\u001b[0;34m\u001b[0m\u001b[0;34m\u001b[0m\u001b[0;34m\u001b[0m\u001b[0m\n\u001b[0;32m--> 277\u001b[0;31m         \u001b[0;32mreturn\u001b[0m \u001b[0msuper\u001b[0m\u001b[0;34m(\u001b[0m\u001b[0;34m)\u001b[0m\u001b[0;34m.\u001b[0m\u001b[0m__getattribute__\u001b[0m\u001b[0;34m(\u001b[0m\u001b[0mname\u001b[0m\u001b[0;34m)\u001b[0m\u001b[0;34m\u001b[0m\u001b[0;34m\u001b[0m\u001b[0m\n\u001b[0m\u001b[1;32m    278\u001b[0m \u001b[0;34m\u001b[0m\u001b[0m\n\u001b[1;32m    279\u001b[0m     \u001b[0;32mdef\u001b[0m \u001b[0m__getitem__\u001b[0m\u001b[0;34m(\u001b[0m\u001b[0mself\u001b[0m\u001b[0;34m,\u001b[0m \u001b[0mitem\u001b[0m\u001b[0;34m)\u001b[0m\u001b[0;34m:\u001b[0m\u001b[0;34m\u001b[0m\u001b[0;34m\u001b[0m\u001b[0m\n",
      "\u001b[0;31mAttributeError\u001b[0m: 'Settings' object has no attribute 'es_host'"
     ]
    }
   ],
   "source": [
    "print(settings.es_host)"
   ]
  },
  {
   "cell_type": "code",
   "execution_count": 52,
   "id": "f8fcd311-cfc4-4ecf-add1-cd16d746b96b",
   "metadata": {},
   "outputs": [],
   "source": [
    "import os\n",
    "os.environ[\"ES_HOST\"] = \"10.12.1.1:9200\""
   ]
  },
  {
   "cell_type": "code",
   "execution_count": 53,
   "id": "8d236f0f-00be-4d20-abac-25c92e5f3da3",
   "metadata": {},
   "outputs": [
    {
     "name": "stdout",
     "output_type": "stream",
     "text": [
      "10.12.1.1:9200\n"
     ]
    }
   ],
   "source": [
    "settings.reload()\n",
    "print(settings.es_host)"
   ]
  },
  {
   "cell_type": "code",
   "execution_count": 38,
   "id": "c50a7d11-76e2-4582-986f-7c64ee6eec11",
   "metadata": {},
   "outputs": [],
   "source": [
    "settings.reload()\n"
   ]
  },
  {
   "cell_type": "code",
   "execution_count": 13,
   "id": "83359284-5a7d-452c-a644-637f2b9736f9",
   "metadata": {},
   "outputs": [
    {
     "name": "stdout",
     "output_type": "stream",
     "text": [
      "1111\n"
     ]
    }
   ],
   "source": [
    "print(settings.es_passwd1)"
   ]
  },
  {
   "cell_type": "code",
   "execution_count": 30,
   "id": "017e5b11-176a-4e78-a9a6-175e28f4a7fb",
   "metadata": {},
   "outputs": [
    {
     "name": "stdout",
     "output_type": "stream",
     "text": [
      "{'fluent-istio-ingress': '1,m', 'logstash-idaas-debug': '60,d'}\n",
      "1,m\n"
     ]
    }
   ],
   "source": [
    "print(settings.index)\n",
    "print(settings.index[\"fluent-istio-ingress\"])"
   ]
  },
  {
   "cell_type": "code",
   "execution_count": null,
   "id": "3e64b581-c41a-4d59-8bbc-60535222949b",
   "metadata": {},
   "outputs": [],
   "source": []
  }
 ],
 "metadata": {
  "kernelspec": {
   "display_name": "Python 3",
   "language": "python",
   "name": "python3"
  },
  "language_info": {
   "codemirror_mode": {
    "name": "ipython",
    "version": 3
   },
   "file_extension": ".py",
   "mimetype": "text/x-python",
   "name": "python",
   "nbconvert_exporter": "python",
   "pygments_lexer": "ipython3",
   "version": "3.9.5"
  }
 },
 "nbformat": 4,
 "nbformat_minor": 5
}
