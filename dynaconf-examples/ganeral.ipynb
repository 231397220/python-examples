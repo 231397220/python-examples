{
 "cells": [
  {
   "cell_type": "code",
   "execution_count": 4,
   "id": "564f4117-a73e-4955-80db-f14301d5adaa",
   "metadata": {},
   "outputs": [],
   "source": [
    "from dynaconf import Dynaconf\n",
    "from dynaconf import settings"
   ]
  },
  {
   "cell_type": "code",
   "execution_count": 11,
   "id": "6a11ef15-3502-4a05-9228-049c9bd165e6",
   "metadata": {},
   "outputs": [],
   "source": [
    "settings.configure(    \n",
    "    settings_file=\"config.yaml\",\n",
    "    environments=False,\n",
    "    envvar_prefix=False\n",
    ")"
   ]
  },
  {
   "cell_type": "code",
   "execution_count": 6,
   "id": "df46ce8c-80b8-4ba3-94c3-860091d698ac",
   "metadata": {},
   "outputs": [
    {
     "name": "stdout",
     "output_type": "stream",
     "text": [
      "[{'fluent-istio-ingress': '1,m'}, {'logstash-idaas-debug': '60,d'}]\n",
      "index\n",
      "{'define_retention_days': 10, 'whitelist': ['nginx-ingress-logs']}\n"
     ]
    }
   ],
   "source": [
    "print(settings.index)\n",
    "print(settings.mode)\n",
    "print(settings.date)"
   ]
  },
  {
   "cell_type": "code",
   "execution_count": 8,
   "id": "179e6406-6fda-4e56-985e-8432d507a165",
   "metadata": {},
   "outputs": [
    {
     "name": "stdout",
     "output_type": "stream",
     "text": [
      "192.168.1.1:9200\n"
     ]
    }
   ],
   "source": [
    "print(settings.es_host)"
   ]
  },
  {
   "cell_type": "code",
   "execution_count": 9,
   "id": "f8fcd311-cfc4-4ecf-add1-cd16d746b96b",
   "metadata": {},
   "outputs": [],
   "source": [
    "import os\n",
    "os.environ[\"ES_HOST\"] = \"10.12.1.1:9200\""
   ]
  },
  {
   "cell_type": "code",
   "execution_count": 10,
   "id": "8d236f0f-00be-4d20-abac-25c92e5f3da3",
   "metadata": {},
   "outputs": [
    {
     "name": "stdout",
     "output_type": "stream",
     "text": [
      "10.12.1.1:9200\n"
     ]
    }
   ],
   "source": [
    "settings.reload()\n",
    "print(settings.es_host)"
   ]
  },
  {
   "cell_type": "code",
   "execution_count": 12,
   "id": "c50a7d11-76e2-4582-986f-7c64ee6eec11",
   "metadata": {},
   "outputs": [],
   "source": [
    "settings.reload()\n"
   ]
  },
  {
   "cell_type": "code",
   "execution_count": 13,
   "id": "83359284-5a7d-452c-a644-637f2b9736f9",
   "metadata": {},
   "outputs": [
    {
     "name": "stdout",
     "output_type": "stream",
     "text": [
      "1111\n"
     ]
    }
   ],
   "source": [
    "print(settings.es_passwd1)"
   ]
  },
  {
   "cell_type": "code",
   "execution_count": null,
   "id": "017e5b11-176a-4e78-a9a6-175e28f4a7fb",
   "metadata": {},
   "outputs": [],
   "source": []
  }
 ],
 "metadata": {
  "kernelspec": {
   "display_name": "Python 3",
   "language": "python",
   "name": "python3"
  },
  "language_info": {
   "codemirror_mode": {
    "name": "ipython",
    "version": 3
   },
   "file_extension": ".py",
   "mimetype": "text/x-python",
   "name": "python",
   "nbconvert_exporter": "python",
   "pygments_lexer": "ipython3",
   "version": "3.9.5"
  }
 },
 "nbformat": 4,
 "nbformat_minor": 5
}
